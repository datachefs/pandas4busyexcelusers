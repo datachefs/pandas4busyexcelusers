{
 "metadata": {
  "name": "",
  "signature": "sha256:829a95e4a2fb30e3d67f169ed87ade45dc2c41ee6ff1e0309cf5e6f6280f658b"
 },
 "nbformat": 3,
 "nbformat_minor": 0,
 "worksheets": [
  {
   "cells": [
    {
     "cell_type": "heading",
     "level": 1,
     "metadata": {},
     "source": [
      "Making Barbecue in a Baker's Kitchen"
     ]
    },
    {
     "cell_type": "markdown",
     "metadata": {},
     "source": [
      "I learned how to cook my first year in grad school. Cooking was a great way to entertain on the cheap, and I had a bunch of friends who didn't have a lot of money but had great cooking skills. So when I came home for Christmas, I decided I'd show off what I'd learned and make dinner for my parents.\n",
      "\n",
      "I stepped into their kitchen. And then I panicked. Everything from the ingredients to the tools to the layout felt strange and wrong. Everything I needed I couldn't find, and what I could find I didn't know how to use. It might as well been a kitchen made for Martians.\n",
      "\n",
      "I tracked down my mom and asked her, \"where's your wok?\" She looked at me like I was crazy. And then it hit me. I wasn't incompetent, I was trying to cook Chinese stirfry in a European kitchen.\n",
      "\n",
      "One of my buddies had turned me into Mr. Stirfry. Back then, if you were living in the Bay Area you could get a nice Chinese cleaver and a good Chinese wok -- a big, black, bad-ass-looking metal pan made for cooking food fast at high heat -- in San Francisco's Chinatown for next to no money. Ditto for good quality vegetables and Asian spices and sauces. So when I stepped into my parents' kitchen, my muscle memory had me grabbing for the tools of my trade. Without them, I felt completely off-balance.\n",
      "\n",
      "That's exactly how I felt when I first started learning pandas. Only it took almost a year before I figured it out.\n",
      "\n",
      "pandas was created by Wes McKinney, a brilliant finance programmer. The tools he had to do his job were driving him nuts, so he built pandas so he could easily slice and dice the kind of data he dealt with on Wall Street.  He built it on top of a tool called numpy, which was designed to make it really easy for scientists to slice and dice the kind of data they deal with.  But it's not the kind of data that I and a lot of other Excel users in the nonprofit world regularly use.\n",
      "\n",
      "So when I first started reading McKinney's book on pandas and pandas' online documentation, I felt pretty lost.  What was this business about \"hierarchical indexes\" and  why would anyone care? Why was it easy to do some tasks but painfully, absurdly difficult to do others that seemed like everyone would need to do?  I spent a lot of time feeling stupid. \n",
      "\n",
      "What I gradually realized was that the problem wasn't me, it was that pandas wasn't built with folks like me in mind.  The reason why what was easy vs. hard to do seemed completely random was that McKinney and others who'd been building out the language were trying to work with data that didn't look like the data I was using.  For example, pandas had amazing tools for slicing and dicing \"time series data\" -- e.g., stock market data, where you've got a price quote every day/hour/etc for several stocks.  But I was working with conference data or sales data, and using tools optimized for stock data to work with them was like trying to make stir fry in my parent's kitchen.\n",
      "\n",
      "In the long run, Data Chefs is hoping to build a community of people who have needs like ours so we can work together to turn pandas into a tool that fits our worlds as well as it does for financial quants and scientists.  But in the meantime, you need help figuring out how to get the most out of this great tool as it is today. And that's exactly what this course is about. Or to put it another way, in this Data Chefs class you'll learn how to make a mean barbecue in a baker's kitchen."
     ]
    },
    {
     "cell_type": "heading",
     "level": 2,
     "metadata": {},
     "source": [
      "A Note about This Course"
     ]
    },
    {
     "cell_type": "markdown",
     "metadata": {},
     "source": [
      "When I first started working on this course, I tried to make it as universal as possible. It was a good idea, but the end result was that it felt flat and uninspired. So in this version I've put a lot more of my voice and my personal experience into it. As more people get involved in writing future versions, that'll change; if we want to create a more diverse data science, we'll need to have more voices and represent more experiences so that more people find it easier to relate to the material. But I think the way to get there isn't by removing any sense of voice. I think of it like a great little neighborhood block party: my ribs may taste great, but they aren't a feast until other people add their dishes to the table."
     ]
    }
   ],
   "metadata": {}
  }
 ]
}