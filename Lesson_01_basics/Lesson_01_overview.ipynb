{
 "metadata": {
  "name": "",
  "signature": "sha256:f5f0c9832654fa793c8b8b8184ac3acf3a60e45a077b1f7cb000c95497f1bfa4"
 },
 "nbformat": 3,
 "nbformat_minor": 0,
 "worksheets": [
  {
   "cells": [
    {
     "cell_type": "heading",
     "level": 1,
     "metadata": {},
     "source": [
      "Lesson 1: the Basics"
     ]
    },
    {
     "cell_type": "markdown",
     "metadata": {},
     "source": [
      "In this lesson, we will get you started with pandas. It's divided into 2 sessions, which should take about 90 minutes each. By the end of the sessions, here's what you will have learned."
     ]
    },
    {
     "cell_type": "markdown",
     "metadata": {},
     "source": [
      "## Session 1\n",
      "- How to start IPython Notebook\n",
      "- Anatomy of an IPython Notebook\n",
      "- DataFrames: pandas' equivalent of Excel worksheets\n",
      "- Reading a CSV file into a DataFrame and displaying it\n",
      "- What is a series? Selecting columns, rows\n",
      "- Sorting\n",
      "- Simple filtering of data\n",
      "- Doing a basic Bokeh plot\n",
      "- Documenting as you go\n",
      " \n",
      "## Session 2\n",
      "- Tab Completion: reading a text/Excel file\n",
      "- Simple pivot tables\n",
      "- Another basic Bokeh plot\n",
      "- Exporting to a file\n",
      "- Reading error messages\n",
      "- Three Keys to Pandas Bliss:  Take Tiny Baby Steps, Document As You Go, and It's Okay to Feel Stupid\n",
      "- Homework: get set up on your box, use in the cookbook learn how to do value counts\n"
     ]
    },
    {
     "cell_type": "code",
     "collapsed": false,
     "input": [],
     "language": "python",
     "metadata": {},
     "outputs": []
    }
   ],
   "metadata": {}
  }
 ]
}