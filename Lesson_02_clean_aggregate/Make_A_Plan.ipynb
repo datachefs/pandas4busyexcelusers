{
 "metadata": {
  "name": "",
  "signature": "sha256:3240eed6e77cf38999973a47b9751258beba0a5929d6c53f826e0b9eb008581f"
 },
 "nbformat": 3,
 "nbformat_minor": 0,
 "worksheets": [
  {
   "cells": [
    {
     "cell_type": "heading",
     "level": 1,
     "metadata": {},
     "source": [
      "Make a Plan"
     ]
    },
    {
     "cell_type": "markdown",
     "metadata": {},
     "source": [
      "{Cosmo magazine, Admiral Grace Hopper: it's like planning a dinner.}"
     ]
    },
    {
     "cell_type": "code",
     "collapsed": false,
     "input": [],
     "language": "python",
     "metadata": {},
     "outputs": []
    }
   ],
   "metadata": {}
  }
 ]
}