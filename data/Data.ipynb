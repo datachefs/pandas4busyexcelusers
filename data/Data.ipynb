{
 "metadata": {
  "name": "",
  "signature": "sha256:ff1987aa4e502ac35531d826c542798a56edf54d29a8f9009c1844b5f0562ce6"
 },
 "nbformat": 3,
 "nbformat_minor": 0,
 "worksheets": [
  {
   "cells": [
    {
     "cell_type": "heading",
     "level": 1,
     "metadata": {},
     "source": [
      "Links for Data"
     ]
    },
    {
     "cell_type": "heading",
     "level": 2,
     "metadata": {},
     "source": [
      "Data I'm Likely to Use"
     ]
    },
    {
     "cell_type": "markdown",
     "metadata": {},
     "source": [
      "- Tobacco_Use_1995-2010.csv: [Tobacco use 1995-2010](https://data.cdc.gov/Smoking-Tobacco-Use/BRFSS-Prevalence-and-Trends-Data-Tobacco-Use-Four-/8zak-ewtm/about), from the CDC via data.cdc.gov"
     ]
    },
    {
     "cell_type": "heading",
     "level": 2,
     "metadata": {},
     "source": [
      "Links to Explore"
     ]
    },
    {
     "cell_type": "markdown",
     "metadata": {},
     "source": [
      "- [data.cdc.gov](https://data.cdc.gov/)\n",
      "- [Data.gov in the Classroom](https://www.data.gov/education/datagov-classroom)\n",
      "- [Databases of statistical information, for journalists](http://multimedia.journalism.berkeley.edu/tutorials/databases-of-statistical-information/general/)"
     ]
    },
    {
     "cell_type": "code",
     "collapsed": false,
     "input": [],
     "language": "python",
     "metadata": {},
     "outputs": []
    }
   ],
   "metadata": {}
  }
 ]
}