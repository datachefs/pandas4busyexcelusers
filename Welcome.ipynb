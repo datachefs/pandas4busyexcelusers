{
 "metadata": {
  "name": "",
  "signature": "sha256:1c47024c8a9c4afbfb8b4e693ebf45d06f0cf620f9dbef7950a02f78b2bef5de"
 },
 "nbformat": 3,
 "nbformat_minor": 0,
 "worksheets": [
  {
   "cells": [
    {
     "cell_type": "heading",
     "level": 1,
     "metadata": {},
     "source": [
      "Welcome to Pandas for Busy Excel Users"
     ]
    },
    {
     "cell_type": "markdown",
     "metadata": {},
     "source": [
      "Welcome!"
     ]
    },
    {
     "cell_type": "markdown",
     "metadata": {},
     "source": [
      "this is a test\n",
      "\n",
      "\n",
      "this is only a test\n"
     ]
    },
    {
     "cell_type": "code",
     "collapsed": false,
     "input": [],
     "language": "python",
     "metadata": {},
     "outputs": []
    }
   ],
   "metadata": {}
  }
 ]
}