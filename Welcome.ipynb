{
 "metadata": {
  "name": "",
  "signature": "sha256:22fb46d71483194b702f2db1e77632162719bd3dcfb84e37bb92f59c71f9e03b"
 },
 "nbformat": 3,
 "nbformat_minor": 0,
 "worksheets": [
  {
   "cells": [
    {
     "cell_type": "heading",
     "level": 1,
     "metadata": {},
     "source": [
      "Welcome to Pandas for Busy Excel Users"
     ]
    },
    {
     "cell_type": "markdown",
     "metadata": {},
     "source": [
      "Welcome!"
     ]
    },
    {
     "cell_type": "markdown",
     "metadata": {},
     "source": [
      "this is a test\n",
      "\n",
      "\n",
      "this is only a test\n"
     ]
    },
    {
     "cell_type": "markdown",
     "metadata": {},
     "source": []
    }
   ],
   "metadata": {}
  }
 ]
}